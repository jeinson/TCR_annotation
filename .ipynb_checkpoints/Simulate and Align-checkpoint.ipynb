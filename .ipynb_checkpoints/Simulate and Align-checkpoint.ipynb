{
 "cells": [
  {
   "cell_type": "markdown",
   "metadata": {},
   "source": [
    "## Simulate TCR sequences to test aligment\n",
    "To see if the real data aligns better than fake data, I will generate some and see how it looks"
   ]
  },
  {
   "cell_type": "code",
   "execution_count": 12,
   "metadata": {},
   "outputs": [
    {
     "name": "stderr",
     "output_type": "stream",
     "text": [
      "Parsed with column specification:\n",
      "cols(\n",
      "  .default = col_character(),\n",
      "  vdjdb.score = col_integer()\n",
      ")\n",
      "See spec(...) for full column specifications.\n"
     ]
    },
    {
     "data": {
      "text/html": [
       "<table>\n",
       "<thead><tr><th scope=col>cdr3.beta</th><th scope=col>v.beta</th><th scope=col>d.beta</th><th scope=col>j.beta</th><th scope=col>antigen.species</th></tr></thead>\n",
       "<tbody>\n",
       "\t<tr><td>CASSSGQLTNTEAFF   </td><td>TRBV9*01          </td><td>NA                </td><td>TRBJ1-1*01        </td><td>EBV               </td></tr>\n",
       "\t<tr><td>CASSASARPEQFF     </td><td>TRBV9*01          </td><td>NA                </td><td>TRBJ2-1*01        </td><td>EBV               </td></tr>\n",
       "\t<tr><td>CASSSGLLTADEQFF   </td><td>TRBV9*01          </td><td>NA                </td><td>TRBJ2-1*01        </td><td>EBV               </td></tr>\n",
       "\t<tr><td>CASSSGQVSNTGELFF  </td><td>TRBV9*01          </td><td>NA                </td><td>TRBJ2-2*01        </td><td>EBV               </td></tr>\n",
       "\t<tr><td>CSARDRTGNGYTF     </td><td>TRBV20-1*01       </td><td>NA                </td><td>TRBJ1-2*01        </td><td>EBV               </td></tr>\n",
       "\t<tr><td>CSARGDGQGDLLQETQYF</td><td>TRBV20-1*01       </td><td>NA                </td><td>TRBJ2-5*01        </td><td>EBV               </td></tr>\n",
       "\t<tr><td>CSVGTGGTNEKLFF    </td><td>TRBV29-1*01       </td><td>NA                </td><td>TRBJ1-4*01        </td><td>EBV               </td></tr>\n",
       "\t<tr><td>CSVGSGGTNEKLFF    </td><td>TRBV29-1*01       </td><td>NA                </td><td>TRBJ1-4*01        </td><td>EBV               </td></tr>\n",
       "\t<tr><td>CSVGAGGTNEKLFF    </td><td>TRBV29-1*01       </td><td>NA                </td><td>TRBJ1-4*01        </td><td>EBV               </td></tr>\n",
       "\t<tr><td>CASSPDRLGTGELFF   </td><td>TRBV27*01         </td><td>NA                </td><td>TRBJ2-2*01        </td><td>EBV               </td></tr>\n",
       "\t<tr><td>CASSQSPGGIIQYF    </td><td>TRBV14*01         </td><td>NA                </td><td>TRBJ2-4*01        </td><td>EBV               </td></tr>\n",
       "\t<tr><td>CASSSGQTLPGELFF   </td><td>TRBV18*01         </td><td>NA                </td><td>TRBJ2-2*01        </td><td>EBV               </td></tr>\n",
       "\t<tr><td>CASSSQRKVPGELFF   </td><td>TRBV2*01          </td><td>NA                </td><td>TRBJ2-2*01        </td><td>EBV               </td></tr>\n",
       "\t<tr><td>CASFSQRKVPGELFF   </td><td>TRBV2*01          </td><td>NA                </td><td>TRBJ2-2*01        </td><td>EBV               </td></tr>\n",
       "\t<tr><td>CASSEVKVSPGELFF   </td><td>TRBV2*01          </td><td>NA                </td><td>TRBJ2-2*01        </td><td>EBV               </td></tr>\n",
       "\t<tr><td>CASSEGAVAPGELFF   </td><td>TRBV2*01          </td><td>NA                </td><td>TRBJ2-2*01        </td><td>EBV               </td></tr>\n",
       "\t<tr><td>CSARDRGLGNTIYF    </td><td>TRBV20-1*01       </td><td>NA                </td><td>TRBJ1-3*01        </td><td>EBV               </td></tr>\n",
       "\t<tr><td>CASSQSPGGIAFF     </td><td>TRBV14*01         </td><td>NA                </td><td>TRBJ1-1*01        </td><td>EBV               </td></tr>\n",
       "\t<tr><td>CSARDSTGNGYTF     </td><td>TRBV20-1*01       </td><td>NA                </td><td>TRBJ1-2*01        </td><td>EBV               </td></tr>\n",
       "\t<tr><td>CSARDRTGNTIYF     </td><td>TRBV20-1*01       </td><td>NA                </td><td>TRBJ1-3*01        </td><td>EBV               </td></tr>\n",
       "</tbody>\n",
       "</table>\n"
      ],
      "text/latex": [
       "\\begin{tabular}{r|lllll}\n",
       " cdr3.beta & v.beta & d.beta & j.beta & antigen.species\\\\\n",
       "\\hline\n",
       "\t CASSSGQLTNTEAFF    & TRBV9*01           & NA                 & TRBJ1-1*01         & EBV               \\\\\n",
       "\t CASSASARPEQFF      & TRBV9*01           & NA                 & TRBJ2-1*01         & EBV               \\\\\n",
       "\t CASSSGLLTADEQFF    & TRBV9*01           & NA                 & TRBJ2-1*01         & EBV               \\\\\n",
       "\t CASSSGQVSNTGELFF   & TRBV9*01           & NA                 & TRBJ2-2*01         & EBV               \\\\\n",
       "\t CSARDRTGNGYTF      & TRBV20-1*01        & NA                 & TRBJ1-2*01         & EBV               \\\\\n",
       "\t CSARGDGQGDLLQETQYF & TRBV20-1*01        & NA                 & TRBJ2-5*01         & EBV               \\\\\n",
       "\t CSVGTGGTNEKLFF     & TRBV29-1*01        & NA                 & TRBJ1-4*01         & EBV               \\\\\n",
       "\t CSVGSGGTNEKLFF     & TRBV29-1*01        & NA                 & TRBJ1-4*01         & EBV               \\\\\n",
       "\t CSVGAGGTNEKLFF     & TRBV29-1*01        & NA                 & TRBJ1-4*01         & EBV               \\\\\n",
       "\t CASSPDRLGTGELFF    & TRBV27*01          & NA                 & TRBJ2-2*01         & EBV               \\\\\n",
       "\t CASSQSPGGIIQYF     & TRBV14*01          & NA                 & TRBJ2-4*01         & EBV               \\\\\n",
       "\t CASSSGQTLPGELFF    & TRBV18*01          & NA                 & TRBJ2-2*01         & EBV               \\\\\n",
       "\t CASSSQRKVPGELFF    & TRBV2*01           & NA                 & TRBJ2-2*01         & EBV               \\\\\n",
       "\t CASFSQRKVPGELFF    & TRBV2*01           & NA                 & TRBJ2-2*01         & EBV               \\\\\n",
       "\t CASSEVKVSPGELFF    & TRBV2*01           & NA                 & TRBJ2-2*01         & EBV               \\\\\n",
       "\t CASSEGAVAPGELFF    & TRBV2*01           & NA                 & TRBJ2-2*01         & EBV               \\\\\n",
       "\t CSARDRGLGNTIYF     & TRBV20-1*01        & NA                 & TRBJ1-3*01         & EBV               \\\\\n",
       "\t CASSQSPGGIAFF      & TRBV14*01          & NA                 & TRBJ1-1*01         & EBV               \\\\\n",
       "\t CSARDSTGNGYTF      & TRBV20-1*01        & NA                 & TRBJ1-2*01         & EBV               \\\\\n",
       "\t CSARDRTGNTIYF      & TRBV20-1*01        & NA                 & TRBJ1-3*01         & EBV               \\\\\n",
       "\\end{tabular}\n"
      ],
      "text/markdown": [
       "\n",
       "cdr3.beta | v.beta | d.beta | j.beta | antigen.species | \n",
       "|---|---|---|---|---|---|---|---|---|---|---|---|---|---|---|---|---|---|---|---|\n",
       "| CASSSGQLTNTEAFF    | TRBV9*01           | NA                 | TRBJ1-1*01         | EBV                | \n",
       "| CASSASARPEQFF      | TRBV9*01           | NA                 | TRBJ2-1*01         | EBV                | \n",
       "| CASSSGLLTADEQFF    | TRBV9*01           | NA                 | TRBJ2-1*01         | EBV                | \n",
       "| CASSSGQVSNTGELFF   | TRBV9*01           | NA                 | TRBJ2-2*01         | EBV                | \n",
       "| CSARDRTGNGYTF      | TRBV20-1*01        | NA                 | TRBJ1-2*01         | EBV                | \n",
       "| CSARGDGQGDLLQETQYF | TRBV20-1*01        | NA                 | TRBJ2-5*01         | EBV                | \n",
       "| CSVGTGGTNEKLFF     | TRBV29-1*01        | NA                 | TRBJ1-4*01         | EBV                | \n",
       "| CSVGSGGTNEKLFF     | TRBV29-1*01        | NA                 | TRBJ1-4*01         | EBV                | \n",
       "| CSVGAGGTNEKLFF     | TRBV29-1*01        | NA                 | TRBJ1-4*01         | EBV                | \n",
       "| CASSPDRLGTGELFF    | TRBV27*01          | NA                 | TRBJ2-2*01         | EBV                | \n",
       "| CASSQSPGGIIQYF     | TRBV14*01          | NA                 | TRBJ2-4*01         | EBV                | \n",
       "| CASSSGQTLPGELFF    | TRBV18*01          | NA                 | TRBJ2-2*01         | EBV                | \n",
       "| CASSSQRKVPGELFF    | TRBV2*01           | NA                 | TRBJ2-2*01         | EBV                | \n",
       "| CASFSQRKVPGELFF    | TRBV2*01           | NA                 | TRBJ2-2*01         | EBV                | \n",
       "| CASSEVKVSPGELFF    | TRBV2*01           | NA                 | TRBJ2-2*01         | EBV                | \n",
       "| CASSEGAVAPGELFF    | TRBV2*01           | NA                 | TRBJ2-2*01         | EBV                | \n",
       "| CSARDRGLGNTIYF     | TRBV20-1*01        | NA                 | TRBJ1-3*01         | EBV                | \n",
       "| CASSQSPGGIAFF      | TRBV14*01          | NA                 | TRBJ1-1*01         | EBV                | \n",
       "| CSARDSTGNGYTF      | TRBV20-1*01        | NA                 | TRBJ1-2*01         | EBV                | \n",
       "| CSARDRTGNTIYF      | TRBV20-1*01        | NA                 | TRBJ1-3*01         | EBV                | \n",
       "\n",
       "\n"
      ],
      "text/plain": [
       "   cdr3.beta          v.beta      d.beta j.beta     antigen.species\n",
       "1  CASSSGQLTNTEAFF    TRBV9*01    NA     TRBJ1-1*01 EBV            \n",
       "2  CASSASARPEQFF      TRBV9*01    NA     TRBJ2-1*01 EBV            \n",
       "3  CASSSGLLTADEQFF    TRBV9*01    NA     TRBJ2-1*01 EBV            \n",
       "4  CASSSGQVSNTGELFF   TRBV9*01    NA     TRBJ2-2*01 EBV            \n",
       "5  CSARDRTGNGYTF      TRBV20-1*01 NA     TRBJ1-2*01 EBV            \n",
       "6  CSARGDGQGDLLQETQYF TRBV20-1*01 NA     TRBJ2-5*01 EBV            \n",
       "7  CSVGTGGTNEKLFF     TRBV29-1*01 NA     TRBJ1-4*01 EBV            \n",
       "8  CSVGSGGTNEKLFF     TRBV29-1*01 NA     TRBJ1-4*01 EBV            \n",
       "9  CSVGAGGTNEKLFF     TRBV29-1*01 NA     TRBJ1-4*01 EBV            \n",
       "10 CASSPDRLGTGELFF    TRBV27*01   NA     TRBJ2-2*01 EBV            \n",
       "11 CASSQSPGGIIQYF     TRBV14*01   NA     TRBJ2-4*01 EBV            \n",
       "12 CASSSGQTLPGELFF    TRBV18*01   NA     TRBJ2-2*01 EBV            \n",
       "13 CASSSQRKVPGELFF    TRBV2*01    NA     TRBJ2-2*01 EBV            \n",
       "14 CASFSQRKVPGELFF    TRBV2*01    NA     TRBJ2-2*01 EBV            \n",
       "15 CASSEVKVSPGELFF    TRBV2*01    NA     TRBJ2-2*01 EBV            \n",
       "16 CASSEGAVAPGELFF    TRBV2*01    NA     TRBJ2-2*01 EBV            \n",
       "17 CSARDRGLGNTIYF     TRBV20-1*01 NA     TRBJ1-3*01 EBV            \n",
       "18 CASSQSPGGIAFF      TRBV14*01   NA     TRBJ1-1*01 EBV            \n",
       "19 CSARDSTGNGYTF      TRBV20-1*01 NA     TRBJ1-2*01 EBV            \n",
       "20 CSARDRTGNTIYF      TRBV20-1*01 NA     TRBJ1-3*01 EBV            "
      ]
     },
     "metadata": {},
     "output_type": "display_data"
    }
   ],
   "source": [
    "suppressWarnings(suppressPackageStartupMessages(library(tidyverse)))\n",
    "vdjdb_human_beta <- read_tsv(\"vdjdb_human_beta.tsv\")\n",
    "vdjdb_human_beta %>% select(cdr3.beta, v.beta, d.beta, j.beta, antigen.species) %>% .[1:20,]"
   ]
  },
  {
   "cell_type": "markdown",
   "metadata": {},
   "source": [
    "To accurately simulate amino acids in the CDR3 sequences, it is improtant to preserve the probabilities of observing the sequence at each position. The first four and last four aa's are more conserved across all sequences. I will find distributions for those, then model the connecting aa's as a Poisson random variable. "
   ]
  },
  {
   "cell_type": "code",
   "execution_count": 19,
   "metadata": {},
   "outputs": [
    {
     "data": {
      "text/plain": [
       ".\n",
       "    C     M     V \n",
       "17023     1     1 "
      ]
     },
     "metadata": {},
     "output_type": "display_data"
    },
    {
     "data": {
      "text/plain": [
       ".\n",
       "    A     C     D     G     I     N     P     Q     R     S     T     V \n",
       "14866     1     2    10     1     2    10     4     5  2057    39    28 "
      ]
     },
     "metadata": {},
     "output_type": "display_data"
    },
    {
     "data": {
      "text/plain": [
       ".\n",
       "    A     C     D     E     F     G     H     I     K     L     M     N     P \n",
       " 1280    20    11     7     8   114     4   250     1    22     3    53    18 \n",
       "    Q     R     S     T     V     W     Y \n",
       "    7    32 13583   672   679   257     4 "
      ]
     },
     "metadata": {},
     "output_type": "display_data"
    }
   ],
   "source": [
    "vdjdb_human_beta$cdr3.beta %>% strsplit(split = \"\") %>% map(~ .[1]) %>% unlist %>% table -> first_n\n",
    "vdjdb_human_beta$cdr3.beta %>% strsplit(split = \"\") %>% map(~ .[2]) %>% unlist %>% table -> second_n\n",
    "vdjdb_human_beta$cdr3.beta %>% strsplit(split = \"\") %>% map(~ .[3]) %>% unlist %>% table -> third_n\n",
    "\n",
    "first_n\n",
    "second_n\n",
    "third_n"
   ]
  },
  {
   "cell_type": "markdown",
   "metadata": {},
   "source": [
    "And the last few cells "
   ]
  },
  {
   "cell_type": "code",
   "execution_count": 21,
   "metadata": {},
   "outputs": [
    {
     "data": {
      "text/plain": [
       ".\n",
       "    C     D     F     G     H     I     L     M     P     Q     T     Y \n",
       "    1     1 16983     5     7     1     4     1     1     1     5    15 "
      ]
     },
     "metadata": {},
     "output_type": "display_data"
    },
    {
     "data": {
      "text/plain": [
       ".\n",
       "   A    C    D    E    F    G    H    I    K    L    M    N    P    Q    R    S \n",
       "   7    3    6    2 6556   18 1495    9    4   24    1    7    9   13   12    8 \n",
       "   T    V    W    Y \n",
       "1888   11    2 6950 "
      ]
     },
     "metadata": {},
     "output_type": "display_data"
    },
    {
     "data": {
      "text/plain": [
       ".\n",
       "   A    C    D    E    F    G    H    I    K    L    M    N    P    Q    R    S \n",
       "  56    3   29 9200    8 1770    7  232  520   30    7   23 1479   40   40   45 \n",
       "   T    V    W    Y \n",
       "3293  209   15   19 "
      ]
     },
     "metadata": {},
     "output_type": "display_data"
    }
   ],
   "source": [
    "last_n <- vdjdb_human_beta$cdr3.beta %>% strsplit(split = \"\") %>%  map(unlist) %>% map(~ .[length(.)]) %>% unlist %>% table\n",
    "last_2n <- vdjdb_human_beta$cdr3.beta %>% strsplit(split = \"\") %>%  map(unlist) %>% map(~ .[length(.) - 1]) %>% unlist %>% table\n",
    "last_3n <- vdjdb_human_beta$cdr3.beta %>% strsplit(split = \"\") %>%  map(unlist) %>% map(~ .[length(.) - 3]) %>% unlist %>% table\n",
    "\n",
    "last_n\n",
    "last_2n\n",
    "last_3n"
   ]
  },
  {
   "cell_type": "code",
   "execution_count": null,
   "metadata": {
    "collapsed": true
   },
   "outputs": [],
   "source": []
  }
 ],
 "metadata": {
  "kernelspec": {
   "display_name": "R",
   "language": "R",
   "name": "ir"
  },
  "language_info": {
   "codemirror_mode": "r",
   "file_extension": ".r",
   "mimetype": "text/x-r-source",
   "name": "R",
   "pygments_lexer": "r",
   "version": "3.4.2"
  }
 },
 "nbformat": 4,
 "nbformat_minor": 2
}
